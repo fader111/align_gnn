{
 "cells": [
  {
   "cell_type": "code",
   "execution_count": null,
   "metadata": {},
   "outputs": [],
   "source": [
    "import torch\n",
    "import torch.nn as nn\n",
    "import torch.nn.functional as F\n",
    "from torch_geometric.nn import GCNConv\n",
    "from torch_geometric.data import Data\n",
    "import numpy as np\n",
    "from torch_geometric.utils import dense_to_sparse\n",
    "from models import TeethGNN"
   ]
  },
  {
   "cell_type": "code",
   "execution_count": null,
   "metadata": {},
   "outputs": [],
   "source": [
    "\"\"\"Creating Graph Data for a Single Case\"\"\"\n",
    "# Node features (initial positions: 3 translation + 4 quaternion for each tooth)\n",
    "initial_positions = np.random.rand(32, 7)  # This would be your actual data\n",
    "x = torch.tensor(initial_positions, dtype=torch.float)\n",
    "\n",
    "# Adjacency matrix: Define which teeth are connected (e.g., based on proximity or clinical relevance)\n",
    "adj_matrix = np.eye(32, k=1) + np.eye(32, k=-1)  # Simple adjacency for neighboring teeth\n",
    "\n",
    "# Convert the adjacency matrix to edge_index format\n",
    "edge_index = dense_to_sparse(torch.tensor(adj_matrix, dtype=torch.long))[0]\n",
    "\n",
    "# Target: Corrected positions (ground truth for training, 3 for translation + 4 for quaternion)\n",
    "corrected_positions = np.random.rand(32, 7)  # Replace with your actual corrected positions\n",
    "y = torch.tensor(corrected_positions, dtype=torch.float)\n",
    "\n",
    "# Create graph data object\n",
    "data = Data(x=x, edge_index=edge_index, y=y)\n"
   ]
  },
  {
   "cell_type": "code",
   "execution_count": null,
   "metadata": {},
   "outputs": [],
   "source": [
    "\"\"\"Training Loop\"\"\"\n",
    "\n",
    "in_channels = 7  # Input: Initial positions (3 for translation + 4 for quaternion)\n",
    "hidden_channels = 64  # Hidden layer size\n",
    "out_channels = 7  # Output: Predicted corrected positions (3 for translation + 4 for quaternion)\n",
    "\n",
    "model = TeethGNN(in_channels, hidden_channels, out_channels)\n",
    "\n",
    "# Optimizer\n",
    "optimizer = torch.optim.Adam(model.parameters(), lr=0.01)\n",
    "criterion = nn.MSELoss()  # Loss function to predict translations/rotations\n",
    "\n",
    "# Training loop\n",
    "def train(data, model, epochs=200):\n",
    "    model.train()\n",
    "    for epoch in range(epochs):\n",
    "        optimizer.zero_grad()\n",
    "        # Forward pass through the model\n",
    "        out = model(data.x, data.edge_index)\n",
    "        # Compute loss (difference between predicted and actual positions)\n",
    "        loss = criterion(out, data.y)\n",
    "        # Backpropagation\n",
    "        loss.backward()\n",
    "        optimizer.step()\n",
    "        if epoch % 10 == 0:\n",
    "            print(f'Epoch {epoch}, Loss: {loss.item()}')\n",
    "\n",
    "# Train the model\n",
    "train(data, model)\n"
   ]
  },
  {
   "cell_type": "code",
   "execution_count": null,
   "metadata": {},
   "outputs": [],
   "source": [
    "\"\"\"validation\"\"\"\n",
    "model.eval()\n",
    "with torch.no_grad():\n",
    "    # Pass new initial teeth positions and their graph structure to the model\n",
    "    predicted_positions = model(data.x, data.edge_index)\n",
    "    print(predicted_positions)\n"
   ]
  }
 ],
 "metadata": {
  "language_info": {
   "name": "python"
  }
 },
 "nbformat": 4,
 "nbformat_minor": 2
}
